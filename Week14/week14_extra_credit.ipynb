{
  "cells": [
    {
      "cell_type": "markdown",
      "metadata": {
        "id": "h84qEO9QAXlT"
      },
      "source": [
        "# Week 14 Extra Credit - How will ChatGPT do on your final project idea?\n",
        "\n",
        "This extra credit assignment is entirely optional.  You do not need to do it.\n",
        "\n",
        "If you would like the opportunity to earn up to 5 extra credit points, complete this assignment and submit it via GitHub as normal before Monday, November 27 at 11:59 PM CST.  No late submissions will be accepted.  The file must be saved to your week13 folder in GitHub."
      ]
    },
    {
      "cell_type": "markdown",
      "metadata": {
        "id": "DhDMJfNjAXlW"
      },
      "source": [
        "## Part 1: Have a conversation with ChatGPT\n",
        "\n",
        "I want you to have a conversation with ChatGPT about your final project idea.  Find out what it thinks about your idea and if it has any data sources (URLs for specific sites) that could be helpful.  Below, either include copy/paste the chat history from your conversation or include a link to the shared chat.  (ChatGPT has an [option to share a link to a specific conversation](https://help.openai.com/en/articles/7925741-chatgpt-shared-links-faq).  It's the up-arrow icon in the upper-right corner of your chat window.)\n",
        "\n",
        "Take this conversationw with ChatGPT as far as you want, but at least ask three or four follow-up questions to refine the information you're getting back.\n",
        "\n",
        "If it starts giving you links to information, don't assume they're going to work. Remember that ChatGPT isn't perfect. So, follow the links and make sure there's information there that matches what ChatGPT says you will find."
      ]
    },
    {
      "cell_type": "markdown",
      "metadata": {
        "id": "k3oxaeAEAXlW"
      },
      "source": [
        "**RESPONSE**\n",
        "\n",
        "*Enter your conversation or link to your chat here*\n",
        "I’m working on a project about obesity among children and adolescents aged 2–19 years in the United States. The focus is on understanding how obesity trends have changed over time, looking at different characteristics like age, race, and socioeconomic status. What do you think of my project idea?\n",
        "\n",
        "ChatGPT: That sounds like an excellent and timely project! Childhood obesity is a significant public health issue, and by focusing on different characteristics like age, race, and socioeconomic status, you're adding depth to your analysis. Understanding the trends over time will help highlight how different groups may be more affected by obesity, and it could guide potential interventions. Do you plan to use statistical methods to analyze the data, or are you focusing more on descriptive trends?\n",
        "\n",
        "I plan to use statistical methods to analyze the data and see how different factors influence obesity rates. I’m thinking of using data from the CDC and other national surveys. Do you have suggestions for specific data sources or reports I should check out?\n",
        "\n",
        "ChatGPT: That’s a great approach! The CDC is definitely one of the best sources for reliable, up-to-date data on childhood obesity. I'd recommend starting with their \"National Center for Health Statistics\" (NCHS) website. Specifically, you can find obesity statistics broken down by age, race/ethnicity, and other key factors. The National Health and Nutrition Examination Survey (NHANES) is another excellent source—it has detailed health data for children and adolescents, including obesity rates and contributing factors."
      ]
    },
    {
      "cell_type": "markdown",
      "metadata": {
        "id": "r4Bd7xMXAXlX"
      },
      "source": [
        "### Part 2: Your reflection\n",
        "\n",
        "Below, tell me what you think ChatGPT did well or not well in your conversation.  Was it good at finding data that you needed?  Was it good at finding actual links that worked?  Did its responses make sense to you?  What did it do well / not well?\n",
        "\n",
        "Your response below should be several sentences.  If you don't have enough feedback, expand your conversation with ChatGPT.  Ask it refine your project idea or start writing code for you.  See what it can do."
      ]
    },
    {
      "cell_type": "markdown",
      "metadata": {
        "id": "t9S9zCBVAXlX"
      },
      "source": [
        "**RESPONSE**\n",
        "\n",
        "*Enter your reflections on the ChatGPT conversation here*\n",
        "\n",
        "In the conversation, ChatGPT did a good job of understanding the scope of my project and providing relevant suggestions for data sources. It recommended reliable sources like the CDC and NHANES, which are both excellent for public health data on childhood obesity. The links to these sources were relevant and would be useful to someone researching the topic.\n",
        "\n",
        "ChatGPT also provided useful reports, such as the State of Childhood Obesity report, which explores contributing factors like socioeconomic status and policies. This was valuable, as these factors are a key focus of my project.\n"
      ]
    },
    {
      "cell_type": "markdown",
      "metadata": {
        "id": "icoePygZAXlX"
      },
      "source": [
        "### Submitting\n",
        "\n",
        "Submit this as normal to GitHub with the name `week14/week14_extra_credit.ipynb`"
      ]
    },
    {
      "cell_type": "markdown",
      "metadata": {
        "id": "j2rt5QhfAXlX"
      },
      "source": []
    }
  ],
  "metadata": {
    "language_info": {
      "name": "python"
    },
    "colab": {
      "provenance": []
    }
  },
  "nbformat": 4,
  "nbformat_minor": 0
}